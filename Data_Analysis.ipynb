{
 "cells": [
  {
   "cell_type": "code",
   "execution_count": 60,
   "metadata": {},
   "outputs": [],
   "source": [
    "import numpy as np\n",
    "import pandas as pd"
   ]
  },
  {
   "cell_type": "code",
   "execution_count": 61,
   "metadata": {},
   "outputs": [],
   "source": [
    "data = pd.read_pickle(\"Data/New/Main_Data/Dataset.pkl\")"
   ]
  },
  {
   "cell_type": "code",
   "execution_count": 62,
   "metadata": {},
   "outputs": [],
   "source": [
    "len(data)\n",
    "pd.set_option('display.max_rows', 500)"
   ]
  },
  {
   "cell_type": "code",
   "execution_count": 63,
   "metadata": {},
   "outputs": [],
   "source": [
    "#test = data[data.isnull().any(axis=1)]['Country'].value_counts()"
   ]
  },
  {
   "cell_type": "code",
   "execution_count": 64,
   "metadata": {},
   "outputs": [
    {
     "data": {
      "text/plain": [
       "145"
      ]
     },
     "execution_count": 64,
     "metadata": {},
     "output_type": "execute_result"
    }
   ],
   "source": [
    "len(data[data.isnull().any(axis=1)]['Country'].unique())"
   ]
  },
  {
   "cell_type": "code",
   "execution_count": 65,
   "metadata": {},
   "outputs": [],
   "source": [
    "#test.to_csv(\"Notes/countries.csv\")"
   ]
  },
  {
   "cell_type": "code",
   "execution_count": 66,
   "metadata": {},
   "outputs": [],
   "source": [
    "remove_countries = pd.read_csv(\"Notes/Countries.csv\")"
   ]
  },
  {
   "cell_type": "code",
   "execution_count": 67,
   "metadata": {},
   "outputs": [
    {
     "data": {
      "text/plain": [
       "72"
      ]
     },
     "execution_count": 67,
     "metadata": {},
     "output_type": "execute_result"
    }
   ],
   "source": [
    "len(remove_countries[remove_countries[\"Remove?\"] == \"Yes\"])"
   ]
  },
  {
   "cell_type": "code",
   "execution_count": 68,
   "metadata": {},
   "outputs": [],
   "source": [
    "remove_countries_list = remove_countries[remove_countries[\"Remove?\"] == \"Yes\"]['Country'].tolist()"
   ]
  },
  {
   "cell_type": "code",
   "execution_count": 69,
   "metadata": {},
   "outputs": [],
   "source": [
    "#remove_countries_list"
   ]
  },
  {
   "cell_type": "code",
   "execution_count": 70,
   "metadata": {},
   "outputs": [
    {
     "data": {
      "text/plain": [
       "Int64Index([3000, 3001, 3002, 3003, 3004, 3005, 3006, 3007, 3008, 3009, 3010,\n",
       "            3011, 3012, 3013, 3014],\n",
       "           dtype='int64')"
      ]
     },
     "execution_count": 70,
     "metadata": {},
     "output_type": "execute_result"
    }
   ],
   "source": [
    "data[data['Country'] == remove_countries_list[0]].index"
   ]
  },
  {
   "cell_type": "code",
   "execution_count": 71,
   "metadata": {},
   "outputs": [],
   "source": [
    "for i in range(0, len(remove_countries_list)):\n",
    "    data.drop(data[data['Country'] == remove_countries_list[i]].index, inplace=True)"
   ]
  },
  {
   "cell_type": "code",
   "execution_count": 72,
   "metadata": {},
   "outputs": [
    {
     "data": {
      "text/plain": [
       "251"
      ]
     },
     "execution_count": 72,
     "metadata": {},
     "output_type": "execute_result"
    }
   ],
   "source": [
    "len(data[data.isnull().any(axis=1)])"
   ]
  },
  {
   "cell_type": "code",
   "execution_count": 73,
   "metadata": {
    "scrolled": true
   },
   "outputs": [
    {
     "data": {
      "text/plain": [
       "South Africa             15\n",
       "Czech Republic           15\n",
       "United States            15\n",
       "Vietnam                  15\n",
       "Korea, Rep.              15\n",
       "United Kingdom           15\n",
       "New Zealand              15\n",
       "Kuwait                    7\n",
       "Serbia                    6\n",
       "Libya                     6\n",
       "Bhutan                    6\n",
       "Fiji                      5\n",
       "Zimbabwe                  5\n",
       "Guinea-Bissau             5\n",
       "Lebanon                   5\n",
       "Suriname                  4\n",
       "Luxembourg                4\n",
       "Burundi                   4\n",
       "Iraq                      4\n",
       "France                    3\n",
       "Micronesia, Fed. Sts.     3\n",
       "Poland                    3\n",
       "Switzerland               3\n",
       "Sudan                     3\n",
       "Austria                   3\n",
       "Nigeria                   3\n",
       "Ukraine                   3\n",
       "Finland                   3\n",
       "Italy                     3\n",
       "Japan                     2\n",
       "Grenada                   2\n",
       "Timor-Leste               2\n",
       "Afghanistan               2\n",
       "Kiribati                  2\n",
       "Portugal                  2\n",
       "Albania                   2\n",
       "Latvia                    2\n",
       "Belgium                   2\n",
       "Greece                    2\n",
       "Malta                     2\n",
       "Bahrain                   1\n",
       "Croatia                   1\n",
       "Australia                 1\n",
       "Lesotho                   1\n",
       "Mauritius                 1\n",
       "Gabon                     1\n",
       "Hungary                   1\n",
       "Dominica                  1\n",
       "Singapore                 1\n",
       "Tonga                     1\n",
       "Netherlands               1\n",
       "Seychelles                1\n",
       "Yemen, Rep.               1\n",
       "Oman                      1\n",
       "Mauritania                1\n",
       "Spain                     1\n",
       "Kenya                     1\n",
       "Uzbekistan                1\n",
       "Thailand                  1\n",
       "Algeria                   1\n",
       "Djibouti                  1\n",
       "Cyprus                    1\n",
       "Madagascar                1\n",
       "Tajikistan                1\n",
       "Morocco                   1\n",
       "Cuba                      1\n",
       "Qatar                     1\n",
       "Ireland                   1\n",
       "Slovenia                  1\n",
       "Germany                   1\n",
       "Iceland                   1\n",
       "Azerbaijan                1\n",
       "Norway                    1\n",
       "Name: Country, dtype: int64"
      ]
     },
     "execution_count": 73,
     "metadata": {},
     "output_type": "execute_result"
    }
   ],
   "source": [
    "data[data.isnull().any(axis=1)]['Country'].value_counts()"
   ]
  },
  {
   "cell_type": "code",
   "execution_count": 57,
   "metadata": {},
   "outputs": [],
   "source": [
    "# Final save\n",
    "pd.to_pickle(data, \"Data/New/Main_Data/Dataset_Removed_Countries.pkl\")"
   ]
  },
  {
   "cell_type": "code",
   "execution_count": 58,
   "metadata": {},
   "outputs": [],
   "source": [
    "# Final save\n",
    "data.to_csv(\"Data/New/Main_Data/Dataset_Removed_Countries.csv\")"
   ]
  },
  {
   "cell_type": "code",
   "execution_count": null,
   "metadata": {},
   "outputs": [],
   "source": []
  }
 ],
 "metadata": {
  "kernelspec": {
   "display_name": "Python 3",
   "language": "python",
   "name": "python3"
  },
  "language_info": {
   "codemirror_mode": {
    "name": "ipython",
    "version": 3
   },
   "file_extension": ".py",
   "mimetype": "text/x-python",
   "name": "python",
   "nbconvert_exporter": "python",
   "pygments_lexer": "ipython3",
   "version": "3.7.2"
  }
 },
 "nbformat": 4,
 "nbformat_minor": 2
}
