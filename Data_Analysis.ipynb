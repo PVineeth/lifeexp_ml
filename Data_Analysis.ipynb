{
 "cells": [
  {
   "cell_type": "code",
   "execution_count": 8,
   "metadata": {},
   "outputs": [],
   "source": [
    "import numpy as np\n",
    "import pandas as pd"
   ]
  },
  {
   "cell_type": "code",
   "execution_count": 9,
   "metadata": {},
   "outputs": [],
   "source": [
    "data = pd.read_pickle(\"Data/New/Main_Data/Dataset.pkl\")"
   ]
  },
  {
   "cell_type": "code",
   "execution_count": 10,
   "metadata": {},
   "outputs": [
    {
     "data": {
      "text/plain": [
       "3255"
      ]
     },
     "execution_count": 10,
     "metadata": {},
     "output_type": "execute_result"
    }
   ],
   "source": [
    "len(data)"
   ]
  },
  {
   "cell_type": "code",
   "execution_count": 19,
   "metadata": {},
   "outputs": [
    {
     "data": {
      "text/plain": [
       "Country\n",
       "Isle of Man                    15\n",
       "North Macedonia                15\n",
       "Cote d'Ivoire                  15\n",
       "Costa Rica                     15\n",
       "Palau                          15\n",
       "Papua New Guinea               15\n",
       "Kosovo                         15\n",
       "Channel Islands                15\n",
       "Puerto Rico                    15\n",
       "Central African Republic       15\n",
       "Russian Federation             15\n",
       "Korea, Rep.                    15\n",
       "San Marino                     15\n",
       "Sao Tome and Principe          15\n",
       "Saudi Arabia                   15\n",
       "Korea, Dem. People���s Rep.    15\n",
       "Cayman Islands                 15\n",
       "Northern Mariana Islands       15\n",
       "Curacao                        15\n",
       "Cabo Verde                     15\n",
       "New Zealand                    15\n",
       "Lao PDR                        15\n",
       "Liechtenstein                  15\n",
       "Kyrgyz Republic                15\n",
       "Macao SAR, China               15\n",
       "Faroe Islands                  15\n",
       "Eswatini                       15\n",
       "Marshall Islands               15\n",
       "Equatorial Guinea              15\n",
       "El Salvador                    15\n",
       "                               ..\n",
       "Australia                       1\n",
       "Seychelles                      1\n",
       "Tajikistan                      1\n",
       "Thailand                        1\n",
       "Bahrain                         1\n",
       "Uzbekistan                      1\n",
       "Azerbaijan                      1\n",
       "Tonga                           1\n",
       "Singapore                       1\n",
       "Ireland                         1\n",
       "Qatar                           1\n",
       "Oman                            1\n",
       "Hungary                         1\n",
       "Kenya                           1\n",
       "Germany                         1\n",
       "Gabon                           1\n",
       "Lesotho                         1\n",
       "Yemen, Rep.                     1\n",
       "Madagascar                      1\n",
       "Mauritania                      1\n",
       "Mauritius                       1\n",
       "Morocco                         1\n",
       "Dominica                        1\n",
       "Djibouti                        1\n",
       "Netherlands                     1\n",
       "Cyprus                          1\n",
       "Iceland                         1\n",
       "Croatia                         1\n",
       "Norway                          1\n",
       "Cuba                            1\n",
       "Length: 145, dtype: int64"
      ]
     },
     "execution_count": 19,
     "metadata": {},
     "output_type": "execute_result"
    }
   ],
   "source": [
    "data[data.isnull().any(axis=1)].groupby(['Country']).size().sort_values(ascending=False)"
   ]
  },
  {
   "cell_type": "code",
   "execution_count": null,
   "metadata": {},
   "outputs": [],
   "source": []
  }
 ],
 "metadata": {
  "kernelspec": {
   "display_name": "Python 3",
   "language": "python",
   "name": "python3"
  },
  "language_info": {
   "codemirror_mode": {
    "name": "ipython",
    "version": 3
   },
   "file_extension": ".py",
   "mimetype": "text/x-python",
   "name": "python",
   "nbconvert_exporter": "python",
   "pygments_lexer": "ipython3",
   "version": "3.7.2"
  }
 },
 "nbformat": 4,
 "nbformat_minor": 2
}
