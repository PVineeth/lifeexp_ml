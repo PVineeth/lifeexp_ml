{
 "cells": [
  {
   "cell_type": "code",
   "execution_count": 57,
   "metadata": {},
   "outputs": [],
   "source": [
    "import pandas as pd\n",
    "import numpy as np\n",
    "import matplotlib.pyplot as plt\n",
    "import seaborn as sns\n",
    "import pylab\n",
    "%matplotlib inline"
   ]
  },
  {
   "cell_type": "code",
   "execution_count": 58,
   "metadata": {},
   "outputs": [],
   "source": [
    "data = pd.read_csv(\"Dataset_Removed_Countries_modified.csv\")"
   ]
  },
  {
   "cell_type": "code",
   "execution_count": 59,
   "metadata": {},
   "outputs": [
    {
     "data": {
      "text/html": [
       "<div>\n",
       "<style scoped>\n",
       "    .dataframe tbody tr th:only-of-type {\n",
       "        vertical-align: middle;\n",
       "    }\n",
       "\n",
       "    .dataframe tbody tr th {\n",
       "        vertical-align: top;\n",
       "    }\n",
       "\n",
       "    .dataframe thead th {\n",
       "        text-align: right;\n",
       "    }\n",
       "</style>\n",
       "<table border=\"1\" class=\"dataframe\">\n",
       "  <thead>\n",
       "    <tr style=\"text-align: right;\">\n",
       "      <th></th>\n",
       "      <th>Country</th>\n",
       "      <th>Year</th>\n",
       "      <th>Status</th>\n",
       "      <th>Life_Expectancy</th>\n",
       "      <th>Adult_Mortality</th>\n",
       "      <th>Infant_Deaths</th>\n",
       "      <th>Alcohol</th>\n",
       "      <th>Percentage_Expenditure</th>\n",
       "      <th>Measles</th>\n",
       "      <th>BMI_5-19_years</th>\n",
       "      <th>...</th>\n",
       "      <th>Under-Five_Deaths</th>\n",
       "      <th>Polio</th>\n",
       "      <th>Total_Expenditure</th>\n",
       "      <th>Diphtheria</th>\n",
       "      <th>GDP</th>\n",
       "      <th>Population</th>\n",
       "      <th>Thinness_10-19_years</th>\n",
       "      <th>Thinness_5-9_years</th>\n",
       "      <th>Income_Composition_Of_Resources</th>\n",
       "      <th>Schooling</th>\n",
       "    </tr>\n",
       "  </thead>\n",
       "  <tbody>\n",
       "    <tr>\n",
       "      <th>0</th>\n",
       "      <td>Afghanistan</td>\n",
       "      <td>2014</td>\n",
       "      <td>Low income</td>\n",
       "      <td>63.0</td>\n",
       "      <td>234</td>\n",
       "      <td>64.0</td>\n",
       "      <td>0.03</td>\n",
       "      <td>9.7</td>\n",
       "      <td>492.0</td>\n",
       "      <td>17.2</td>\n",
       "      <td>...</td>\n",
       "      <td>86.0</td>\n",
       "      <td>58</td>\n",
       "      <td>12.00</td>\n",
       "      <td>62</td>\n",
       "      <td>625.339539</td>\n",
       "      <td>32758020</td>\n",
       "      <td>17.7</td>\n",
       "      <td>17.7</td>\n",
       "      <td>0.441</td>\n",
       "      <td>3.5</td>\n",
       "    </tr>\n",
       "    <tr>\n",
       "      <th>1</th>\n",
       "      <td>Afghanistan</td>\n",
       "      <td>2013</td>\n",
       "      <td>Low income</td>\n",
       "      <td>62.7</td>\n",
       "      <td>235</td>\n",
       "      <td>66.0</td>\n",
       "      <td>0.03</td>\n",
       "      <td>8.8</td>\n",
       "      <td>430.0</td>\n",
       "      <td>17.1</td>\n",
       "      <td>...</td>\n",
       "      <td>89.0</td>\n",
       "      <td>62</td>\n",
       "      <td>10.59</td>\n",
       "      <td>64</td>\n",
       "      <td>647.966461</td>\n",
       "      <td>31731688</td>\n",
       "      <td>17.9</td>\n",
       "      <td>18.0</td>\n",
       "      <td>0.443</td>\n",
       "      <td>3.5</td>\n",
       "    </tr>\n",
       "    <tr>\n",
       "      <th>2</th>\n",
       "      <td>Afghanistan</td>\n",
       "      <td>2012</td>\n",
       "      <td>Low income</td>\n",
       "      <td>62.2</td>\n",
       "      <td>242</td>\n",
       "      <td>69.0</td>\n",
       "      <td>0.04</td>\n",
       "      <td>7.9</td>\n",
       "      <td>2787.0</td>\n",
       "      <td>17.0</td>\n",
       "      <td>...</td>\n",
       "      <td>93.0</td>\n",
       "      <td>67</td>\n",
       "      <td>11.67</td>\n",
       "      <td>67</td>\n",
       "      <td>648.511070</td>\n",
       "      <td>30696958</td>\n",
       "      <td>18.2</td>\n",
       "      <td>18.2</td>\n",
       "      <td>0.442</td>\n",
       "      <td>3.4</td>\n",
       "    </tr>\n",
       "    <tr>\n",
       "      <th>3</th>\n",
       "      <td>Afghanistan</td>\n",
       "      <td>2011</td>\n",
       "      <td>Low income</td>\n",
       "      <td>61.7</td>\n",
       "      <td>248</td>\n",
       "      <td>71.0</td>\n",
       "      <td>0.04</td>\n",
       "      <td>8.6</td>\n",
       "      <td>3013.0</td>\n",
       "      <td>16.9</td>\n",
       "      <td>...</td>\n",
       "      <td>97.0</td>\n",
       "      <td>68</td>\n",
       "      <td>10.17</td>\n",
       "      <td>68</td>\n",
       "      <td>599.297630</td>\n",
       "      <td>29708599</td>\n",
       "      <td>18.4</td>\n",
       "      <td>18.4</td>\n",
       "      <td>0.426</td>\n",
       "      <td>3.3</td>\n",
       "    </tr>\n",
       "    <tr>\n",
       "      <th>4</th>\n",
       "      <td>Afghanistan</td>\n",
       "      <td>2010</td>\n",
       "      <td>Low income</td>\n",
       "      <td>61.2</td>\n",
       "      <td>255</td>\n",
       "      <td>74.0</td>\n",
       "      <td>0.03</td>\n",
       "      <td>8.6</td>\n",
       "      <td>1989.0</td>\n",
       "      <td>16.8</td>\n",
       "      <td>...</td>\n",
       "      <td>101.0</td>\n",
       "      <td>66</td>\n",
       "      <td>14.40</td>\n",
       "      <td>66</td>\n",
       "      <td>550.514974</td>\n",
       "      <td>28803167</td>\n",
       "      <td>18.6</td>\n",
       "      <td>18.7</td>\n",
       "      <td>0.421</td>\n",
       "      <td>3.2</td>\n",
       "    </tr>\n",
       "  </tbody>\n",
       "</table>\n",
       "<p>5 rows × 21 columns</p>\n",
       "</div>"
      ],
      "text/plain": [
       "       Country  Year      Status  Life_Expectancy  Adult_Mortality  \\\n",
       "0  Afghanistan  2014  Low income             63.0              234   \n",
       "1  Afghanistan  2013  Low income             62.7              235   \n",
       "2  Afghanistan  2012  Low income             62.2              242   \n",
       "3  Afghanistan  2011  Low income             61.7              248   \n",
       "4  Afghanistan  2010  Low income             61.2              255   \n",
       "\n",
       "   Infant_Deaths  Alcohol  Percentage_Expenditure  Measles  BMI_5-19_years  \\\n",
       "0           64.0     0.03                     9.7    492.0            17.2   \n",
       "1           66.0     0.03                     8.8    430.0            17.1   \n",
       "2           69.0     0.04                     7.9   2787.0            17.0   \n",
       "3           71.0     0.04                     8.6   3013.0            16.9   \n",
       "4           74.0     0.03                     8.6   1989.0            16.8   \n",
       "\n",
       "     ...      Under-Five_Deaths  Polio  Total_Expenditure  Diphtheria  \\\n",
       "0    ...                   86.0     58              12.00          62   \n",
       "1    ...                   89.0     62              10.59          64   \n",
       "2    ...                   93.0     67              11.67          67   \n",
       "3    ...                   97.0     68              10.17          68   \n",
       "4    ...                  101.0     66              14.40          66   \n",
       "\n",
       "          GDP  Population  Thinness_10-19_years  Thinness_5-9_years  \\\n",
       "0  625.339539    32758020                  17.7                17.7   \n",
       "1  647.966461    31731688                  17.9                18.0   \n",
       "2  648.511070    30696958                  18.2                18.2   \n",
       "3  599.297630    29708599                  18.4                18.4   \n",
       "4  550.514974    28803167                  18.6                18.7   \n",
       "\n",
       "   Income_Composition_Of_Resources  Schooling  \n",
       "0                            0.441        3.5  \n",
       "1                            0.443        3.5  \n",
       "2                            0.442        3.4  \n",
       "3                            0.426        3.3  \n",
       "4                            0.421        3.2  \n",
       "\n",
       "[5 rows x 21 columns]"
      ]
     },
     "execution_count": 59,
     "metadata": {},
     "output_type": "execute_result"
    }
   ],
   "source": [
    "data.head()"
   ]
  },
  {
   "cell_type": "code",
   "execution_count": 60,
   "metadata": {},
   "outputs": [],
   "source": [
    "group_status = data[[\"Country\",\"Status\",\"Total_Expenditure\",\"Life_Expectancy\"]].groupby(\"Status\",as_index=False)\n",
    "group_status_df = group_status.apply(pd.DataFrame)\n",
    "lowincome_countries = group_status_df[group_status_df['Status'] == \"Low income\"]"
   ]
  },
  {
   "cell_type": "code",
   "execution_count": 61,
   "metadata": {},
   "outputs": [
    {
     "data": {
      "text/html": [
       "<div>\n",
       "<style scoped>\n",
       "    .dataframe tbody tr th:only-of-type {\n",
       "        vertical-align: middle;\n",
       "    }\n",
       "\n",
       "    .dataframe tbody tr th {\n",
       "        vertical-align: top;\n",
       "    }\n",
       "\n",
       "    .dataframe thead th {\n",
       "        text-align: right;\n",
       "    }\n",
       "</style>\n",
       "<table border=\"1\" class=\"dataframe\">\n",
       "  <thead>\n",
       "    <tr style=\"text-align: right;\">\n",
       "      <th></th>\n",
       "      <th>Country</th>\n",
       "      <th>Status</th>\n",
       "      <th>Total_Expenditure</th>\n",
       "      <th>Life_Expectancy</th>\n",
       "    </tr>\n",
       "  </thead>\n",
       "  <tbody>\n",
       "    <tr>\n",
       "      <th>0</th>\n",
       "      <td>Afghanistan</td>\n",
       "      <td>Low income</td>\n",
       "      <td>12.00</td>\n",
       "      <td>63.0</td>\n",
       "    </tr>\n",
       "    <tr>\n",
       "      <th>1</th>\n",
       "      <td>Afghanistan</td>\n",
       "      <td>Low income</td>\n",
       "      <td>10.59</td>\n",
       "      <td>62.7</td>\n",
       "    </tr>\n",
       "    <tr>\n",
       "      <th>2</th>\n",
       "      <td>Afghanistan</td>\n",
       "      <td>Low income</td>\n",
       "      <td>11.67</td>\n",
       "      <td>62.2</td>\n",
       "    </tr>\n",
       "    <tr>\n",
       "      <th>3</th>\n",
       "      <td>Afghanistan</td>\n",
       "      <td>Low income</td>\n",
       "      <td>10.17</td>\n",
       "      <td>61.7</td>\n",
       "    </tr>\n",
       "    <tr>\n",
       "      <th>4</th>\n",
       "      <td>Afghanistan</td>\n",
       "      <td>Low income</td>\n",
       "      <td>14.40</td>\n",
       "      <td>61.2</td>\n",
       "    </tr>\n",
       "  </tbody>\n",
       "</table>\n",
       "</div>"
      ],
      "text/plain": [
       "       Country      Status  Total_Expenditure  Life_Expectancy\n",
       "0  Afghanistan  Low income              12.00             63.0\n",
       "1  Afghanistan  Low income              10.59             62.7\n",
       "2  Afghanistan  Low income              11.67             62.2\n",
       "3  Afghanistan  Low income              10.17             61.7\n",
       "4  Afghanistan  Low income              14.40             61.2"
      ]
     },
     "execution_count": 61,
     "metadata": {},
     "output_type": "execute_result"
    }
   ],
   "source": [
    "lowincome_countries.head()"
   ]
  },
  {
   "cell_type": "code",
   "execution_count": 62,
   "metadata": {},
   "outputs": [],
   "source": [
    "#sns.barplot(data = lowincome_countries ,x=\"Total_Expenditure\" , y = \"Life_Expectancy\" ,hue = \"Country\" )"
   ]
  },
  {
   "cell_type": "code",
   "execution_count": 63,
   "metadata": {},
   "outputs": [
    {
     "data": {
      "text/plain": [
       "<seaborn.axisgrid.FacetGrid at 0x1617dfc18>"
      ]
     },
     "execution_count": 63,
     "metadata": {},
     "output_type": "execute_result"
    },
    {
     "data": {
      "image/png": "[encoded data removed]",
      "text/plain": [
       "<Figure size 864x216 with 4 Axes>"
      ]
     },
     "metadata": {
      "needs_background": "light"
     },
     "output_type": "display_data"
    }
   ],
   "source": [
    "g = sns.FacetGrid(data, col = \"Status\")\n",
    "g.map(plt.bar, \"Life_Expectancy\",\"Total_Expenditure\")\n",
    "#plt.show()"
   ]
  },
  {
   "cell_type": "code",
   "execution_count": 64,
   "metadata": {},
   "outputs": [
    {
     "data": {
      "text/plain": [
       "<matplotlib.axes._subplots.AxesSubplot at 0x163d8a400>"
      ]
     },
     "execution_count": 64,
     "metadata": {},
     "output_type": "execute_result"
    },
    {
     "data": {
      "image/png": "[encoded data removed]",
      "text/plain": [
       "<Figure size 432x288 with 1 Axes>"
      ]
     },
     "metadata": {
      "needs_background": "light"
     },
     "output_type": "display_data"
    }
   ],
   "source": [
    "sns.countplot(data = data, y = \"Life_Expectancy\", hue = \"Status\",saturation =1,linewidth = 1)"
   ]
  },
  {
   "cell_type": "code",
   "execution_count": null,
   "metadata": {},
   "outputs": [],
   "source": []
  },
  {
   "cell_type": "code",
   "execution_count": 65,
   "metadata": {},
   "outputs": [],
   "source": [
    "#sns.barplot(x = \"Total_Expenditure\" ,y =\"Life_Expectancy\",hue = \"Status\",data = data)\n",
    "#plt.figsize"
   ]
  },
  {
   "cell_type": "code",
   "execution_count": null,
   "metadata": {},
   "outputs": [],
   "source": []
  },
  {
   "cell_type": "code",
   "execution_count": null,
   "metadata": {},
   "outputs": [],
   "source": []
  }
 ],
 "metadata": {
  "kernelspec": {
   "display_name": "Python 3",
   "language": "python",
   "name": "python3"
  },
  "language_info": {
   "codemirror_mode": {
    "name": "ipython",
    "version": 3
   },
   "file_extension": ".py",
   "mimetype": "text/x-python",
   "name": "python",
   "nbconvert_exporter": "python",
   "pygments_lexer": "ipython3",
   "version": "3.7.2"
  }
 },
 "nbformat": 4,
 "nbformat_minor": 2
}
