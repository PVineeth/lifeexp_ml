{
 "cells": [
  {
   "cell_type": "code",
   "execution_count": 127,
   "metadata": {},
   "outputs": [],
   "source": [
    "import wbdata\n",
    "import pandas as pd\n",
    "import matplotlib.pyplot as plt"
   ]
  },
  {
   "cell_type": "code",
   "execution_count": 43,
   "metadata": {
    "scrolled": true
   },
   "outputs": [
    {
     "name": "stdout",
     "output_type": "stream",
     "text": [
      "6.0.GDPpc_constant        \tGDP per capita, PPP (constant 2011 international $) \n",
      "FB.DPT.INSU.PC.ZS         \tDeposit insurance coverage (% of GDP per capita)\n",
      "NV.AGR.PCAP.KD.ZG         \tReal agricultural GDP per capita growth rate (%)\n",
      "NY.GDP.PCAP.PP.KD.ZG      \tGDP per capita, PPP annual growth (%)\n",
      "NY.GDP.PCAP.PP.KD.87      \tGDP per capita, PPP (constant 1987 international $)\n",
      "NY.GDP.PCAP.PP.KD         \tGDP per capita, PPP (constant 2011 international $)\n",
      "NY.GDP.PCAP.PP.CD         \tGDP per capita, PPP (current international $)\n",
      "NY.GDP.PCAP.KN            \tGDP per capita (constant LCU)\n",
      "NY.GDP.PCAP.KD.ZG         \tGDP per capita growth (annual %)\n",
      "NY.GDP.PCAP.KD            \tGDP per capita (constant 2010 US$)\n",
      "NY.GDP.PCAP.CN            \tGDP per capita (current LCU)\n",
      "NY.GDP.PCAP.CD            \tGDP per capita (current US$)\n",
      "SE.XPD.TERT.PC.ZS         \tGovernment expenditure per student, tertiary (% of GDP per capita)\n",
      "SE.XPD.SECO.PC.ZS         \tGovernment expenditure per student, secondary (% of GDP per capita)\n",
      "SE.XPD.PRIM.PC.ZS         \tGovernment expenditure per student, primary (% of GDP per capita)\n",
      "UIS.XUNIT.GDPCAP.5T8.FSHH \tInitial household funding per tertiary student as a percentage of GDP per capita\n",
      "UIS.XUNIT.GDPCAP.5T8.FSGOV\tInitial government funding per tertiary student as a percentage of GDP per capita\n",
      "UIS.XUNIT.GDPCAP.3.FSGOV  \tInitial government funding per upper secondary student as a percentage of GDP per capita\n",
      "UIS.XUNIT.GDPCAP.23.FSHH  \tInitial household funding per secondary student as a percentage of GDP per capita\n",
      "UIS.XUNIT.GDPCAP.23.FSGOV \tInitial government funding per secondary student as a percentage of GDP per capita\n",
      "UIS.XUNIT.GDPCAP.2.FSGOV  \tInitial government funding per lower secondary student as a percentage of GDP per capita\n",
      "UIS.XUNIT.GDPCAP.1.FSHH   \tInitial household funding per primary student as a percentage of GDP per capita\n",
      "UIS.XUNIT.GDPCAP.1.FSGOV  \tInitial government funding per primary student as a percentage of GDP per capita\n",
      "UIS.XUNIT.GDPCAP.02.FSGOV \tInitial government funding per pre-primary student as a percentage of GDP per capita\n"
     ]
    }
   ],
   "source": [
    "#set up the countries I want\n",
    "#countries = [\"CL\",\"UY\",\"HU\"]\n",
    "wbdata.search_indicators(\"gdp per capita\")"
   ]
  },
  {
   "cell_type": "code",
   "execution_count": 133,
   "metadata": {},
   "outputs": [],
   "source": [
    "#set up the indicator I want (just build up the dict if you want more than one)\n",
    "indicators = {'NY.GDP.PCAP.CD':'GDP'}"
   ]
  },
  {
   "cell_type": "code",
   "execution_count": 134,
   "metadata": {},
   "outputs": [],
   "source": [
    "#grab indicators above for countires above and load into data frame\n",
    "df = wbdata.get_dataframe(indicators, convert_date=False)"
   ]
  },
  {
   "cell_type": "code",
   "execution_count": 135,
   "metadata": {},
   "outputs": [],
   "source": [
    "df.to_csv(\"gdp.csv\", sep='\\t', encoding='utf-8')"
   ]
  },
  {
   "cell_type": "code",
   "execution_count": 138,
   "metadata": {},
   "outputs": [],
   "source": [
    "gdp_data = pd.read_csv(\"gdp.csv\", sep='\\t')"
   ]
  },
  {
   "cell_type": "code",
   "execution_count": 139,
   "metadata": {},
   "outputs": [],
   "source": [
    "#xx = df.iloc[df.index.get_level_values('date') == \"2015\"]\n",
    "#xx.iloc[xx.index.get_level_values('country') == \"Afghanistan\"]"
   ]
  },
  {
   "cell_type": "code",
   "execution_count": 140,
   "metadata": {},
   "outputs": [],
   "source": [
    "#df.index[2]"
   ]
  },
  {
   "cell_type": "code",
   "execution_count": 143,
   "metadata": {},
   "outputs": [
    {
     "data": {
      "text/plain": [
       "RangeIndex(start=0, stop=15576, step=1)"
      ]
     },
     "execution_count": 143,
     "metadata": {},
     "output_type": "execute_result"
    }
   ],
   "source": [
    "gdp_data.index"
   ]
  },
  {
   "cell_type": "code",
   "execution_count": null,
   "metadata": {},
   "outputs": [],
   "source": [
    "for val in nan_pop_countries['Country'].index:\n",
    "    if np.isnan(nan_countries_test['Population'][val]):\n",
    "        print(val,' ',end='')\n",
    "        if len(pop_data[pop_data['Country Name'] == nan_pop_countries['Country'][val]].values) != 0:\n",
    "            try:\n",
    "                pop_other_data = pop_data[pop_data['Country Name'] == nan_pop_countries['Country'][val]][pop_data['Year'] == nan_pop_countries['Year'][val]]['Value'].values[0]\n",
    "                print(pop_other_data)\n",
    "                nan_countries_test.loc[val, 'Population'] = pop_other_data\n",
    "            except IndexError:\n",
    "                pass\n",
    "        else:\n",
    "            try:\n",
    "                pop_other_data = pop_data[pop_data['Country Name'].str.startswith(nan_pop_countries['Country'][val])][pop_data['Year'] == nan_pop_countries['Year'][val]]['Value'].values[0]\n",
    "                print(pop_other_data)\n",
    "                nan_countries_test.loc[val, 'Population'] = pop_other_data\n",
    "            except IndexError:\n",
    "                try:\n",
    "                    pop_other_data = pop_data[pop_data['Country Name'].str.startswith(nan_pop_countries['Country'][val].split(' (')[0])][pop_data['Year'] == nan_pop_countries['Year'][val]]['Value'].values[0]\n",
    "                    print(pop_other_data)\n",
    "                    nan_countries_test.loc[val, 'Population'] = pop_other_data\n",
    "                except IndexError:\n",
    "                    pass # No country match"
   ]
  }
 ],
 "metadata": {
  "kernelspec": {
   "display_name": "Python 3",
   "language": "python",
   "name": "python3"
  },
  "language_info": {
   "codemirror_mode": {
    "name": "ipython",
    "version": 3
   },
   "file_extension": ".py",
   "mimetype": "text/x-python",
   "name": "python",
   "nbconvert_exporter": "python",
   "pygments_lexer": "ipython3",
   "version": "3.7.2"
  }
 },
 "nbformat": 4,
 "nbformat_minor": 2
}
